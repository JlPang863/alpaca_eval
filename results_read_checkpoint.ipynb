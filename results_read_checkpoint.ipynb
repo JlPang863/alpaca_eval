{
 "cells": [
  {
   "cell_type": "code",
   "execution_count": 7,
   "metadata": {},
   "outputs": [
    {
     "name": "stdout",
     "output_type": "stream",
     "text": [
      "Evaluation Model: llama-3-8b \n",
      "Base Model: alpaca_eval_gpt4.1 \n",
      "       loss_type  length_controlled_winrate  discrete_win_rate  n_total  avg_length\n",
      "0  dpo-full-eval                       4.56               6.83      805        3183\n",
      "1  dpo-full-eval                       5.84              12.30      805        3284\n",
      "2  dpo-full-eval                       6.34              13.29      805        3102\n",
      "3  dpo-full-eval                       8.23              15.28      805        2983\n",
      "4  dpo-full-eval                       9.00              18.76      805        3225\n",
      "5  dpo-full-eval                       7.04              16.40      805        3052\n"
     ]
    },
    {
     "name": "stderr",
     "output_type": "stream",
     "text": [
      "/tmp/ipykernel_2579885/1116748574.py:55: SettingWithCopyWarning: \n",
      "A value is trying to be set on a copy of a slice from a DataFrame.\n",
      "Try using .loc[row_indexer,col_indexer] = value instead\n",
      "\n",
      "See the caveats in the documentation: https://pandas.pydata.org/pandas-docs/stable/user_guide/indexing.html#returning-a-view-versus-a-copy\n",
      "  merged_results[\"discrete_win_rate\"] = merged_results[\"discrete_win_rate\"].round(2)\n",
      "/tmp/ipykernel_2579885/1116748574.py:56: SettingWithCopyWarning: \n",
      "A value is trying to be set on a copy of a slice from a DataFrame.\n",
      "Try using .loc[row_indexer,col_indexer] = value instead\n",
      "\n",
      "See the caveats in the documentation: https://pandas.pydata.org/pandas-docs/stable/user_guide/indexing.html#returning-a-view-versus-a-copy\n",
      "  merged_results[\"length_controlled_winrate\"] = merged_results[\"length_controlled_winrate\"].round(2)\n"
     ]
    }
   ],
   "source": [
    "import torch\n",
    "import pandas as pd\n",
    "\n",
    "# loss_type_list = [\n",
    "#     \"dpo-new1-sorted-llama-half-new-params\",\n",
    "#     \"dpo-new1-sorted-score-diff-half-new-params\",\n",
    "#     \"dpo-new1-sorted-llama-half\",\n",
    "#     \"dpo-new1-sorted-score-diff-half\",\n",
    "#     \"dpo-new1-sorted-score-diff-full\",\n",
    "#     \"dpo-new1-sorted-llama-full\",\n",
    "#     \"ours4-2-new1\",\n",
    "# ]\n",
    "# base_model=\"mistral-7b\" \n",
    "base_model=\"llama-3-8b\" \n",
    "\n",
    "if base_model == \"llama-3-8b\":\n",
    "    base_model_name='Llama-3-Base-8B-SFT'\n",
    "elif base_model == \"mistral-7b\":\n",
    "    base_model_name='Mistral-7B-Base-SFT'\n",
    "else:\n",
    "    raise NotImplementedError\n",
    "\n",
    "\n",
    "\n",
    "loss_type_list = [\n",
    "    \"dpo-full-eval\",\n",
    "    # \"ours4-6-sorted-score-diff-full-eval\",\n",
    "]\n",
    "\n",
    "ckpt_list= []\n",
    "ckpt_list=[38, 76, 114, 152, 190, 228, 266, 304, 342, 382] #266, 304, 342, 382\n",
    "# ckpt_list=[76, 152, 228, 304, 382]\n",
    "# ckpt_list=[38, 114, 190, 266, 342]\n",
    "\n",
    "# judge_model = \"gpt35_turbo_instruct\"\n",
    "judge_model=\"alpaca_eval_gpt4.1\"\n",
    "# 存储所有结果\n",
    "root_path = \"model_outputs_cl_tiny\"\n",
    "# root_path = \"model_outputs_cl_checkpoint_final\"\n",
    "\n",
    "\n",
    "results = []\n",
    "\n",
    "for loss_type in loss_type_list:\n",
    "    for ckpt in ckpt_list:\n",
    "        result = pd.read_csv(f\"{root_path}/{base_model}-{loss_type}/checkpoint-{ckpt}/{judge_model}/leaderboard.csv\")\n",
    "        result[\"loss_type\"] = loss_type  # 添加列区分 loss_type\n",
    "        results.append(result)\n",
    "\n",
    "# 合并所有 DataFrame\n",
    "raw_merged_results = pd.concat(results, ignore_index=True)\n",
    "merged_results = raw_merged_results[['loss_type', 'length_controlled_winrate', 'discrete_win_rate', 'n_total', 'avg_length']]\n",
    "# merged_results = raw_merged_results\n",
    "\n",
    "merged_results[\"discrete_win_rate\"] = merged_results[\"discrete_win_rate\"].round(2)\n",
    "merged_results[\"length_controlled_winrate\"] = merged_results[\"length_controlled_winrate\"].round(2)\n",
    "\n",
    "# 打印合并后的 DataFrame\n",
    "# print(merged_results)\n",
    "print(f\"Evaluation Model: {base_model} \")\n",
    "print(f\"Base Model: {judge_model} \")\n",
    "\n",
    "print(merged_results.to_string(line_width=1000))\n",
    "\n",
    "# 保存为 CSV\n",
    "# merged_results.to_csv(\"merged_leaderboard.csv\", index=False)\n",
    "# latex_table = merged_results.to_latex(index=True, caption=\"模型评估结果\", label=\"tab:results\", float_format=\"%.2f\")\n",
    "# print(\"\\n\" +\"#\" * 80 + \"\\nLaTeX Form:\\n\" + \"#\" * 80 )\n",
    "# print(latex_table)\n"
   ]
  },
  {
   "cell_type": "code",
   "execution_count": 2,
   "metadata": {},
   "outputs": [
    {
     "data": {
      "text/plain": [
       "[6.83, 12.3, 13.29, 15.28, 18.76, 16.4, 17.89, 19.25, 18.63, 16.65]"
      ]
     },
     "execution_count": 2,
     "metadata": {},
     "output_type": "execute_result"
    }
   ],
   "source": [
    "merged_results['discrete_win_rate'].tolist()"
   ]
  }
 ],
 "metadata": {
  "kernelspec": {
   "display_name": "venv",
   "language": "python",
   "name": "python3"
  },
  "language_info": {
   "codemirror_mode": {
    "name": "ipython",
    "version": 3
   },
   "file_extension": ".py",
   "mimetype": "text/x-python",
   "name": "python",
   "nbconvert_exporter": "python",
   "pygments_lexer": "ipython3",
   "version": "3.10.12"
  }
 },
 "nbformat": 4,
 "nbformat_minor": 2
}
